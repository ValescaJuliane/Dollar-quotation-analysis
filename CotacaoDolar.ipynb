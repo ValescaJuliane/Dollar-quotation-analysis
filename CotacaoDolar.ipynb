{
 "cells": [
  {
   "cell_type": "markdown",
   "id": "c314cf18",
   "metadata": {},
   "source": [
    "# Análise da Cotação do Dolar no Período de 01/01/2016 e 21/05/2021"
   ]
  },
  {
   "cell_type": "markdown",
   "id": "9ac319e7",
   "metadata": {},
   "source": [
    "Para fazer a análise da Cotação do Dólar, utilizei os dados abertos disponiilizados pelo Banco Central"
   ]
  },
  {
   "cell_type": "code",
   "execution_count": 1,
   "id": "fc96530d",
   "metadata": {},
   "outputs": [],
   "source": [
    "#Carregando os dados utilizando a função pd.read_csv da bilioteca pandas \n",
    "\n",
    "import pandas as pd\n",
    "\n",
    "url_dados = \"https://olinda.bcb.gov.br/olinda/servico/PTAX/versao/v1/odata/CotacaoDolarPeriodo(dataInicial=@dataInicial,dataFinalCotacao=@dataFinalCotacao)?@dataInicial='01-01-2016'&@dataFinalCotacao='05-21-2021'&$top=10000&$format=text/csv&$select=cotacaoCompra,cotacaoVenda,dataHoraCotacao\"\n",
    "base_dolar = pd.read_csv(url_dados)"
   ]
  },
  {
   "cell_type": "code",
   "execution_count": 2,
   "id": "03922c41",
   "metadata": {},
   "outputs": [
    {
     "data": {
      "text/html": [
       "<div>\n",
       "<style scoped>\n",
       "    .dataframe tbody tr th:only-of-type {\n",
       "        vertical-align: middle;\n",
       "    }\n",
       "\n",
       "    .dataframe tbody tr th {\n",
       "        vertical-align: top;\n",
       "    }\n",
       "\n",
       "    .dataframe thead th {\n",
       "        text-align: right;\n",
       "    }\n",
       "</style>\n",
       "<table border=\"1\" class=\"dataframe\">\n",
       "  <thead>\n",
       "    <tr style=\"text-align: right;\">\n",
       "      <th></th>\n",
       "      <th>cotacaoCompra</th>\n",
       "      <th>cotacaoVenda</th>\n",
       "      <th>dataHoraCotacao</th>\n",
       "    </tr>\n",
       "  </thead>\n",
       "  <tbody>\n",
       "    <tr>\n",
       "      <th>0</th>\n",
       "      <td>4,038</td>\n",
       "      <td>4,0387</td>\n",
       "      <td>2016-01-04 13:12:41.021</td>\n",
       "    </tr>\n",
       "    <tr>\n",
       "      <th>1</th>\n",
       "      <td>4,0108</td>\n",
       "      <td>4,0114</td>\n",
       "      <td>2016-01-05 13:12:41.306</td>\n",
       "    </tr>\n",
       "    <tr>\n",
       "      <th>2</th>\n",
       "      <td>4,0297</td>\n",
       "      <td>4,0303</td>\n",
       "      <td>2016-01-06 13:08:04.506</td>\n",
       "    </tr>\n",
       "    <tr>\n",
       "      <th>3</th>\n",
       "      <td>4,0469</td>\n",
       "      <td>4,0475</td>\n",
       "      <td>2016-01-07 13:07:20.817</td>\n",
       "    </tr>\n",
       "    <tr>\n",
       "      <th>4</th>\n",
       "      <td>4,0244</td>\n",
       "      <td>4,025</td>\n",
       "      <td>2016-01-08 13:11:21.614</td>\n",
       "    </tr>\n",
       "    <tr>\n",
       "      <th>...</th>\n",
       "      <td>...</td>\n",
       "      <td>...</td>\n",
       "      <td>...</td>\n",
       "    </tr>\n",
       "    <tr>\n",
       "      <th>1345</th>\n",
       "      <td>5,2749</td>\n",
       "      <td>5,2755</td>\n",
       "      <td>2021-05-17 13:07:28.963</td>\n",
       "    </tr>\n",
       "    <tr>\n",
       "      <th>1346</th>\n",
       "      <td>5,2582</td>\n",
       "      <td>5,2588</td>\n",
       "      <td>2021-05-18 13:06:44.978</td>\n",
       "    </tr>\n",
       "    <tr>\n",
       "      <th>1347</th>\n",
       "      <td>5,2816</td>\n",
       "      <td>5,2822</td>\n",
       "      <td>2021-05-19 13:10:26.529</td>\n",
       "    </tr>\n",
       "    <tr>\n",
       "      <th>1348</th>\n",
       "      <td>5,2899</td>\n",
       "      <td>5,2905</td>\n",
       "      <td>2021-05-20 13:06:37.39</td>\n",
       "    </tr>\n",
       "    <tr>\n",
       "      <th>1349</th>\n",
       "      <td>5,3021</td>\n",
       "      <td>5,3027</td>\n",
       "      <td>2021-05-21 13:11:21.274</td>\n",
       "    </tr>\n",
       "  </tbody>\n",
       "</table>\n",
       "<p>1350 rows × 3 columns</p>\n",
       "</div>"
      ],
      "text/plain": [
       "     cotacaoCompra cotacaoVenda          dataHoraCotacao\n",
       "0            4,038       4,0387  2016-01-04 13:12:41.021\n",
       "1           4,0108       4,0114  2016-01-05 13:12:41.306\n",
       "2           4,0297       4,0303  2016-01-06 13:08:04.506\n",
       "3           4,0469       4,0475  2016-01-07 13:07:20.817\n",
       "4           4,0244        4,025  2016-01-08 13:11:21.614\n",
       "...            ...          ...                      ...\n",
       "1345        5,2749       5,2755  2021-05-17 13:07:28.963\n",
       "1346        5,2582       5,2588  2021-05-18 13:06:44.978\n",
       "1347        5,2816       5,2822  2021-05-19 13:10:26.529\n",
       "1348        5,2899       5,2905   2021-05-20 13:06:37.39\n",
       "1349        5,3021       5,3027  2021-05-21 13:11:21.274\n",
       "\n",
       "[1350 rows x 3 columns]"
      ]
     },
     "execution_count": 2,
     "metadata": {},
     "output_type": "execute_result"
    }
   ],
   "source": [
    "#Visualizando a base\n",
    "base_dolar"
   ]
  },
  {
   "cell_type": "markdown",
   "id": "fb06a60f",
   "metadata": {},
   "source": [
    "Visualizando a base, vemos que ela é composta por três informações: a cotação do Dólar para venda, a cotação para compra e a data e hora da cotação."
   ]
  },
  {
   "cell_type": "markdown",
   "id": "064c3540",
   "metadata": {},
   "source": [
    "## Identificando qual a Data e o Valor da Última Cotação"
   ]
  },
  {
   "cell_type": "markdown",
   "id": "f8c60578",
   "metadata": {},
   "source": [
    "Para identificar a data da última cotação, primeiro é preciso criar uma nova coluna somente com as datas das cotações"
   ]
  },
  {
   "cell_type": "code",
   "execution_count": 3,
   "id": "509e5919",
   "metadata": {},
   "outputs": [
    {
     "data": {
      "text/plain": [
       "0    [2016-01-04, 13:12:41.021]\n",
       "1    [2016-01-05, 13:12:41.306]\n",
       "2    [2016-01-06, 13:08:04.506]\n",
       "3    [2016-01-07, 13:07:20.817]\n",
       "4    [2016-01-08, 13:11:21.614]\n",
       "Name: dataHoraCotacao, dtype: object"
      ]
     },
     "execution_count": 3,
     "metadata": {},
     "output_type": "execute_result"
    }
   ],
   "source": [
    "#Separando a coluna de data e hora da cotação pelo espaço\n",
    "\n",
    "separa_data = base_dolar['dataHoraCotacao'].str.split(' ')\n",
    "separa_data.head()"
   ]
  },
  {
   "cell_type": "code",
   "execution_count": 4,
   "id": "106303c7",
   "metadata": {},
   "outputs": [
    {
     "data": {
      "text/html": [
       "<div>\n",
       "<style scoped>\n",
       "    .dataframe tbody tr th:only-of-type {\n",
       "        vertical-align: middle;\n",
       "    }\n",
       "\n",
       "    .dataframe tbody tr th {\n",
       "        vertical-align: top;\n",
       "    }\n",
       "\n",
       "    .dataframe thead th {\n",
       "        text-align: right;\n",
       "    }\n",
       "</style>\n",
       "<table border=\"1\" class=\"dataframe\">\n",
       "  <thead>\n",
       "    <tr style=\"text-align: right;\">\n",
       "      <th></th>\n",
       "      <th>cotacaoCompra</th>\n",
       "      <th>cotacaoVenda</th>\n",
       "      <th>dataHoraCotacao</th>\n",
       "      <th>data</th>\n",
       "    </tr>\n",
       "  </thead>\n",
       "  <tbody>\n",
       "    <tr>\n",
       "      <th>0</th>\n",
       "      <td>4,038</td>\n",
       "      <td>4,0387</td>\n",
       "      <td>2016-01-04 13:12:41.021</td>\n",
       "      <td>2016-01-04</td>\n",
       "    </tr>\n",
       "    <tr>\n",
       "      <th>1</th>\n",
       "      <td>4,0108</td>\n",
       "      <td>4,0114</td>\n",
       "      <td>2016-01-05 13:12:41.306</td>\n",
       "      <td>2016-01-05</td>\n",
       "    </tr>\n",
       "    <tr>\n",
       "      <th>2</th>\n",
       "      <td>4,0297</td>\n",
       "      <td>4,0303</td>\n",
       "      <td>2016-01-06 13:08:04.506</td>\n",
       "      <td>2016-01-06</td>\n",
       "    </tr>\n",
       "    <tr>\n",
       "      <th>3</th>\n",
       "      <td>4,0469</td>\n",
       "      <td>4,0475</td>\n",
       "      <td>2016-01-07 13:07:20.817</td>\n",
       "      <td>2016-01-07</td>\n",
       "    </tr>\n",
       "    <tr>\n",
       "      <th>4</th>\n",
       "      <td>4,0244</td>\n",
       "      <td>4,025</td>\n",
       "      <td>2016-01-08 13:11:21.614</td>\n",
       "      <td>2016-01-08</td>\n",
       "    </tr>\n",
       "  </tbody>\n",
       "</table>\n",
       "</div>"
      ],
      "text/plain": [
       "  cotacaoCompra cotacaoVenda          dataHoraCotacao        data\n",
       "0         4,038       4,0387  2016-01-04 13:12:41.021  2016-01-04\n",
       "1        4,0108       4,0114  2016-01-05 13:12:41.306  2016-01-05\n",
       "2        4,0297       4,0303  2016-01-06 13:08:04.506  2016-01-06\n",
       "3        4,0469       4,0475  2016-01-07 13:07:20.817  2016-01-07\n",
       "4        4,0244        4,025  2016-01-08 13:11:21.614  2016-01-08"
      ]
     },
     "execution_count": 4,
     "metadata": {},
     "output_type": "execute_result"
    }
   ],
   "source": [
    "#Selecionano somente o valor da data da cotação e criando uma nova coluna com esses valores \n",
    "\n",
    "data = separa_data.str.get(0)\n",
    "base_dolar['data'] = data\n",
    "base_dolar.head()"
   ]
  },
  {
   "cell_type": "markdown",
   "id": "5f1120c3",
   "metadata": {},
   "source": [
    "Em seguida salvo o valor da data da última cotação e em seguida filtro os dados a partir desse valor"
   ]
  },
  {
   "cell_type": "code",
   "execution_count": 5,
   "id": "39757fa0",
   "metadata": {},
   "outputs": [
    {
     "data": {
      "text/plain": [
       "'2021-05-21'"
      ]
     },
     "execution_count": 5,
     "metadata": {},
     "output_type": "execute_result"
    }
   ],
   "source": [
    "data_ultima_cotacao = base_dolar['data'].max()\n",
    "data_ultima_cotacao"
   ]
  },
  {
   "cell_type": "code",
   "execution_count": 6,
   "id": "815306ef",
   "metadata": {},
   "outputs": [
    {
     "data": {
      "text/html": [
       "<div>\n",
       "<style scoped>\n",
       "    .dataframe tbody tr th:only-of-type {\n",
       "        vertical-align: middle;\n",
       "    }\n",
       "\n",
       "    .dataframe tbody tr th {\n",
       "        vertical-align: top;\n",
       "    }\n",
       "\n",
       "    .dataframe thead th {\n",
       "        text-align: right;\n",
       "    }\n",
       "</style>\n",
       "<table border=\"1\" class=\"dataframe\">\n",
       "  <thead>\n",
       "    <tr style=\"text-align: right;\">\n",
       "      <th></th>\n",
       "      <th>cotacaoCompra</th>\n",
       "      <th>cotacaoVenda</th>\n",
       "      <th>dataHoraCotacao</th>\n",
       "      <th>data</th>\n",
       "    </tr>\n",
       "  </thead>\n",
       "  <tbody>\n",
       "    <tr>\n",
       "      <th>1349</th>\n",
       "      <td>5,3021</td>\n",
       "      <td>5,3027</td>\n",
       "      <td>2021-05-21 13:11:21.274</td>\n",
       "      <td>2021-05-21</td>\n",
       "    </tr>\n",
       "  </tbody>\n",
       "</table>\n",
       "</div>"
      ],
      "text/plain": [
       "     cotacaoCompra cotacaoVenda          dataHoraCotacao        data\n",
       "1349        5,3021       5,3027  2021-05-21 13:11:21.274  2021-05-21"
      ]
     },
     "execution_count": 6,
     "metadata": {},
     "output_type": "execute_result"
    }
   ],
   "source": [
    "base_filtrada = base_dolar.query('data in @data_ultima_cotacao')\n",
    "base_filtrada"
   ]
  },
  {
   "cell_type": "code",
   "execution_count": 8,
   "id": "324ed6ad",
   "metadata": {},
   "outputs": [
    {
     "data": {
      "text/html": [
       "<div>\n",
       "<style scoped>\n",
       "    .dataframe tbody tr th:only-of-type {\n",
       "        vertical-align: middle;\n",
       "    }\n",
       "\n",
       "    .dataframe tbody tr th {\n",
       "        vertical-align: top;\n",
       "    }\n",
       "\n",
       "    .dataframe thead th {\n",
       "        text-align: right;\n",
       "    }\n",
       "</style>\n",
       "<table border=\"1\" class=\"dataframe\">\n",
       "  <thead>\n",
       "    <tr style=\"text-align: right;\">\n",
       "      <th></th>\n",
       "      <th>cotacaoCompra</th>\n",
       "      <th>data</th>\n",
       "    </tr>\n",
       "  </thead>\n",
       "  <tbody>\n",
       "    <tr>\n",
       "      <th>1349</th>\n",
       "      <td>5,3021</td>\n",
       "      <td>2021-05-21</td>\n",
       "    </tr>\n",
       "  </tbody>\n",
       "</table>\n",
       "</div>"
      ],
      "text/plain": [
       "     cotacaoCompra        data\n",
       "1349        5,3021  2021-05-21"
      ]
     },
     "execution_count": 8,
     "metadata": {},
     "output_type": "execute_result"
    }
   ],
   "source": [
    "base_filtrada[['cotacaoCompra','data']]"
   ]
  },
  {
   "cell_type": "markdown",
   "id": "5ebb33a6",
   "metadata": {},
   "source": [
    "## Visualizando a cotação diária"
   ]
  },
  {
   "cell_type": "markdown",
   "id": "ba337b16",
   "metadata": {},
   "source": [
    "Primeiro vamos visualizar o tipo de cada coluna"
   ]
  },
  {
   "cell_type": "code",
   "execution_count": 9,
   "id": "41dc1a84",
   "metadata": {},
   "outputs": [
    {
     "name": "stdout",
     "output_type": "stream",
     "text": [
      "<class 'pandas.core.frame.DataFrame'>\n",
      "RangeIndex: 1350 entries, 0 to 1349\n",
      "Data columns (total 4 columns):\n",
      " #   Column           Non-Null Count  Dtype \n",
      "---  ------           --------------  ----- \n",
      " 0   cotacaoCompra    1350 non-null   object\n",
      " 1   cotacaoVenda     1350 non-null   object\n",
      " 2   dataHoraCotacao  1350 non-null   object\n",
      " 3   data             1350 non-null   object\n",
      "dtypes: object(4)\n",
      "memory usage: 42.3+ KB\n"
     ]
    }
   ],
   "source": [
    "#visualizando o tipo de cada coluna\n",
    "\n",
    "base_dolar.info()"
   ]
  },
  {
   "cell_type": "markdown",
   "id": "b23213bb",
   "metadata": {},
   "source": [
    "Vemos que os valores de data são do tipo object, e para fazer a visualização precisamos que os dados estejam no formato datetime."
   ]
  },
  {
   "cell_type": "code",
   "execution_count": 10,
   "id": "4f9c81ff",
   "metadata": {},
   "outputs": [],
   "source": [
    "#mudando o tipo da coluna data para datetime\n",
    "\n",
    "base_dolar['data'] = pd.to_datetime(base_dolar['data'])"
   ]
  },
  {
   "cell_type": "code",
   "execution_count": 11,
   "id": "6c7d7ae2",
   "metadata": {},
   "outputs": [
    {
     "name": "stdout",
     "output_type": "stream",
     "text": [
      "<class 'pandas.core.frame.DataFrame'>\n",
      "RangeIndex: 1350 entries, 0 to 1349\n",
      "Data columns (total 4 columns):\n",
      " #   Column           Non-Null Count  Dtype         \n",
      "---  ------           --------------  -----         \n",
      " 0   cotacaoCompra    1350 non-null   object        \n",
      " 1   cotacaoVenda     1350 non-null   object        \n",
      " 2   dataHoraCotacao  1350 non-null   object        \n",
      " 3   data             1350 non-null   datetime64[ns]\n",
      "dtypes: datetime64[ns](1), object(3)\n",
      "memory usage: 42.3+ KB\n"
     ]
    }
   ],
   "source": [
    "base_dolar.info()"
   ]
  },
  {
   "cell_type": "markdown",
   "id": "39a25af6",
   "metadata": {},
   "source": [
    "Agora vamos modificar substituir a vírgula por ponto nas colunas referentes aos valores de cotação e em seguida alteral o tipo para numeric."
   ]
  },
  {
   "cell_type": "code",
   "execution_count": 13,
   "id": "64320bdc",
   "metadata": {},
   "outputs": [
    {
     "data": {
      "text/html": [
       "<div>\n",
       "<style scoped>\n",
       "    .dataframe tbody tr th:only-of-type {\n",
       "        vertical-align: middle;\n",
       "    }\n",
       "\n",
       "    .dataframe tbody tr th {\n",
       "        vertical-align: top;\n",
       "    }\n",
       "\n",
       "    .dataframe thead th {\n",
       "        text-align: right;\n",
       "    }\n",
       "</style>\n",
       "<table border=\"1\" class=\"dataframe\">\n",
       "  <thead>\n",
       "    <tr style=\"text-align: right;\">\n",
       "      <th></th>\n",
       "      <th>cotacaoCompra</th>\n",
       "      <th>cotacaoVenda</th>\n",
       "      <th>dataHoraCotacao</th>\n",
       "      <th>data</th>\n",
       "    </tr>\n",
       "  </thead>\n",
       "  <tbody>\n",
       "    <tr>\n",
       "      <th>0</th>\n",
       "      <td>4.038</td>\n",
       "      <td>4.0387</td>\n",
       "      <td>2016-01-04 13:12:41.021</td>\n",
       "      <td>2016-01-04</td>\n",
       "    </tr>\n",
       "    <tr>\n",
       "      <th>1</th>\n",
       "      <td>4.0108</td>\n",
       "      <td>4.0114</td>\n",
       "      <td>2016-01-05 13:12:41.306</td>\n",
       "      <td>2016-01-05</td>\n",
       "    </tr>\n",
       "    <tr>\n",
       "      <th>2</th>\n",
       "      <td>4.0297</td>\n",
       "      <td>4.0303</td>\n",
       "      <td>2016-01-06 13:08:04.506</td>\n",
       "      <td>2016-01-06</td>\n",
       "    </tr>\n",
       "    <tr>\n",
       "      <th>3</th>\n",
       "      <td>4.0469</td>\n",
       "      <td>4.0475</td>\n",
       "      <td>2016-01-07 13:07:20.817</td>\n",
       "      <td>2016-01-07</td>\n",
       "    </tr>\n",
       "    <tr>\n",
       "      <th>4</th>\n",
       "      <td>4.0244</td>\n",
       "      <td>4.025</td>\n",
       "      <td>2016-01-08 13:11:21.614</td>\n",
       "      <td>2016-01-08</td>\n",
       "    </tr>\n",
       "  </tbody>\n",
       "</table>\n",
       "</div>"
      ],
      "text/plain": [
       "  cotacaoCompra cotacaoVenda          dataHoraCotacao       data\n",
       "0         4.038       4.0387  2016-01-04 13:12:41.021 2016-01-04\n",
       "1        4.0108       4.0114  2016-01-05 13:12:41.306 2016-01-05\n",
       "2        4.0297       4.0303  2016-01-06 13:08:04.506 2016-01-06\n",
       "3        4.0469       4.0475  2016-01-07 13:07:20.817 2016-01-07\n",
       "4        4.0244        4.025  2016-01-08 13:11:21.614 2016-01-08"
      ]
     },
     "execution_count": 13,
     "metadata": {},
     "output_type": "execute_result"
    }
   ],
   "source": [
    "base_dolar['cotacaoCompra'] = base_dolar['cotacaoCompra'].str.replace(',','.')\n",
    "base_dolar['cotacaoVenda'] = base_dolar['cotacaoVenda'].str.replace(',','.')\n",
    "\n",
    "base_dolar.head()\n",
    "\n"
   ]
  },
  {
   "cell_type": "code",
   "execution_count": 14,
   "id": "bd42fdc6",
   "metadata": {},
   "outputs": [
    {
     "name": "stdout",
     "output_type": "stream",
     "text": [
      "<class 'pandas.core.frame.DataFrame'>\n",
      "RangeIndex: 1350 entries, 0 to 1349\n",
      "Data columns (total 4 columns):\n",
      " #   Column           Non-Null Count  Dtype         \n",
      "---  ------           --------------  -----         \n",
      " 0   cotacaoCompra    1350 non-null   float64       \n",
      " 1   cotacaoVenda     1350 non-null   float64       \n",
      " 2   dataHoraCotacao  1350 non-null   object        \n",
      " 3   data             1350 non-null   datetime64[ns]\n",
      "dtypes: datetime64[ns](1), float64(2), object(1)\n",
      "memory usage: 42.3+ KB\n"
     ]
    }
   ],
   "source": [
    "#Modificando o tipo das colunas de cotação de objeto para numérico\n",
    "\n",
    "base_dolar['cotacaoCompra'] =  pd.to_numeric(base_dolar['cotacaoCompra'])\n",
    "base_dolar['cotacaoVenda'] =  pd.to_numeric(base_dolar['cotacaoVenda'])\n",
    "\n",
    "base_dolar.info()"
   ]
  },
  {
   "cell_type": "markdown",
   "id": "9eb3147c",
   "metadata": {},
   "source": [
    "Agora que os dados estão no formato adequado, podemos visualizar o gráfico com a cotação diária Período de 01/01/2016 e 21/05/2021"
   ]
  },
  {
   "cell_type": "code",
   "execution_count": 15,
   "id": "aebc66ec",
   "metadata": {},
   "outputs": [
    {
     "data": {
      "image/png": "[encoded data removed]",
      "text/plain": [
       "<Figure size 1440x432 with 1 Axes>"
      ]
     },
     "metadata": {},
     "output_type": "display_data"
    }
   ],
   "source": [
    "import matplotlib.pyplot as plt\n",
    "import seaborn as sns\n",
    "\n",
    "sns.set()\n",
    "plt.figure(figsize=(20, 6))\n",
    "sns.lineplot(data=base_dolar, x=\"data\", y=\"cotacaoCompra\")\n",
    "plt.title('Cotação diária do Dólar (2016 a 2021)')\n",
    "plt.show()"
   ]
  },
  {
   "cell_type": "markdown",
   "id": "167164e7",
   "metadata": {},
   "source": [
    "Vemos que em 2020 houve um pico, o que pode ser explicado pela pandemia causada pelo Covid-19."
   ]
  },
  {
   "cell_type": "markdown",
   "id": "bef923f8",
   "metadata": {},
   "source": [
    "## Visualização da Cotação Média Anual"
   ]
  },
  {
   "cell_type": "markdown",
   "id": "2fd7b583",
   "metadata": {},
   "source": [
    "Para isso vamos agrupas os dados da cotação pelo ano e fazer a média"
   ]
  },
  {
   "cell_type": "code",
   "execution_count": 16,
   "id": "53919011",
   "metadata": {},
   "outputs": [
    {
     "data": {
      "image/png": "[encoded data removed]",
      "text/plain": [
       "<Figure size 432x288 with 1 Axes>"
      ]
     },
     "metadata": {},
     "output_type": "display_data"
    }
   ],
   "source": [
    "sns.set()\n",
    "base_dolar.groupby(by = base_dolar['data'].dt.year)['cotacaoCompra'].mean().plot.bar()\n",
    "plt.title('Média da Cotação Anual')\n",
    "plt.show()"
   ]
  },
  {
   "cell_type": "markdown",
   "id": "c1499b80",
   "metadata": {},
   "source": [
    "O gráfico acima apresenta a mesma curva do gráfico anterior. Em 2017 a cotação média ficou a baixo da de 2016 e a partir de 2018 começou a aumentar, apresentando um pico em 2020 que pode ser explicado pela pandemia causada pelo covid-19."
   ]
  },
  {
   "cell_type": "markdown",
   "id": "6fac7680",
   "metadata": {},
   "source": [
    "## Visualização da Cotação Média por Mês"
   ]
  },
  {
   "cell_type": "code",
   "execution_count": 17,
   "id": "753be88c",
   "metadata": {},
   "outputs": [
    {
     "data": {
      "image/png": "[encoded data removed]",
      "text/plain": [
       "<Figure size 432x288 with 1 Axes>"
      ]
     },
     "metadata": {},
     "output_type": "display_data"
    }
   ],
   "source": [
    "sns.set()\n",
    "base_dolar.groupby(by = base_dolar['data'].dt.month)['cotacaoCompra'].mean().plot.bar()\n",
    "plt.title('Média da Cotação por Mês')\n",
    "plt.show()"
   ]
  },
  {
   "cell_type": "markdown",
   "id": "2ea1211f",
   "metadata": {},
   "source": [
    "No gráfico acima vemos que em média, nos meses 3, 4 e 5 (Março, Abril e Maio, respectivamente) são os meses onde o dólar está mais alto. Já os meses 6 e 7 (Junho e Julho, respectivamente) são os que"
   ]
  }
 ],
 "metadata": {
  "kernelspec": {
   "display_name": "Python 3",
   "language": "python",
   "name": "python3"
  },
  "language_info": {
   "codemirror_mode": {
    "name": "ipython",
    "version": 3
   },
   "file_extension": ".py",
   "mimetype": "text/x-python",
   "name": "python",
   "nbconvert_exporter": "python",
   "pygments_lexer": "ipython3",
   "version": "3.8.8"
  }
 },
 "nbformat": 4,
 "nbformat_minor": 5
}
